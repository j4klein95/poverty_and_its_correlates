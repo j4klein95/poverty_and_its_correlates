{
 "cells": [
  {
   "cell_type": "code",
   "execution_count": 1,
   "metadata": {
    "collapsed": true
   },
   "outputs": [],
   "source": [
    "import pandas as pd\n",
    "import numpy as np \n",
    "import matplotlib.pyplot as plt\n",
    "import seaborn as sns\n",
    "\n",
    "from sklearn.linear_model import LogisticRegression\n",
    "from sklearn.model_selection import GridSearchCV\n",
    "from sklearn.neighbors import KNeighborsClassifier\n",
    "from sklearn.model_selection import train_test_split\n",
    "from sklearn.svm import SVC \n",
    "from sklearn.metrics import classification_report\n",
    "from sklearn.ensemble import RandomForestClassifier\n",
    "from sklearn.preprocessing import StandardScaler\n",
    "\n",
    "from sklearn.model_selection import cross_val_score\n",
    "from sklearn.metrics import mean_squared_error\n",
    "from sklearn.model_selection import KFold\n",
    "from sklearn.metrics import accuracy_score\n",
    "\n",
    "%matplotlib inline"
   ]
  },
  {
   "cell_type": "code",
   "execution_count": 2,
   "metadata": {
    "collapsed": true
   },
   "outputs": [],
   "source": [
    "df = pd.read_csv(\"../csv/main.csv\", encoding=\"UTF-8\")"
   ]
  },
  {
   "cell_type": "code",
   "execution_count": 3,
   "metadata": {},
   "outputs": [
    {
     "data": {
      "text/plain": [
       "Index(['Geography', 'Per Capita Income (2016)', 'All People Under PL(%)',\n",
       "       'Female household under PL (%)', '%onFoodStamps', 'DIABETES_AdjPrev',\n",
       "       'OBESITY_AdjPrev', 'DENTAL_AdjPrev', '% of pop 15+ not married',\n",
       "       '% of Pop 15+ Now Married', 'Geolocation'],\n",
       "      dtype='object')"
      ]
     },
     "execution_count": 3,
     "metadata": {},
     "output_type": "execute_result"
    }
   ],
   "source": [
    "df.columns"
   ]
  },
  {
   "cell_type": "code",
   "execution_count": 4,
   "metadata": {},
   "outputs": [
    {
     "data": {
      "text/html": [
       "<div>\n",
       "<style>\n",
       "    .dataframe thead tr:only-child th {\n",
       "        text-align: right;\n",
       "    }\n",
       "\n",
       "    .dataframe thead th {\n",
       "        text-align: left;\n",
       "    }\n",
       "\n",
       "    .dataframe tbody tr th {\n",
       "        vertical-align: top;\n",
       "    }\n",
       "</style>\n",
       "<table border=\"1\" class=\"dataframe\">\n",
       "  <thead>\n",
       "    <tr style=\"text-align: right;\">\n",
       "      <th></th>\n",
       "      <th>Per Capita Income (2016)</th>\n",
       "      <th>All People Under PL(%)</th>\n",
       "      <th>Female household under PL (%)</th>\n",
       "      <th>%onFoodStamps</th>\n",
       "      <th>DIABETES_AdjPrev</th>\n",
       "      <th>OBESITY_AdjPrev</th>\n",
       "      <th>DENTAL_AdjPrev</th>\n",
       "      <th>% of pop 15+ not married</th>\n",
       "      <th>% of Pop 15+ Now Married</th>\n",
       "    </tr>\n",
       "  </thead>\n",
       "  <tbody>\n",
       "    <tr>\n",
       "      <th>count</th>\n",
       "      <td>488.000000</td>\n",
       "      <td>488.000000</td>\n",
       "      <td>488.000000</td>\n",
       "      <td>488.000000</td>\n",
       "      <td>488.000000</td>\n",
       "      <td>488.000000</td>\n",
       "      <td>488.000000</td>\n",
       "      <td>488.000000</td>\n",
       "      <td>488.000000</td>\n",
       "    </tr>\n",
       "    <tr>\n",
       "      <th>mean</th>\n",
       "      <td>30134.411885</td>\n",
       "      <td>16.054508</td>\n",
       "      <td>26.460451</td>\n",
       "      <td>13.851434</td>\n",
       "      <td>10.289754</td>\n",
       "      <td>29.085246</td>\n",
       "      <td>62.169262</td>\n",
       "      <td>38.303279</td>\n",
       "      <td>45.422951</td>\n",
       "    </tr>\n",
       "    <tr>\n",
       "      <th>std</th>\n",
       "      <td>9834.990940</td>\n",
       "      <td>7.316350</td>\n",
       "      <td>10.808012</td>\n",
       "      <td>8.329978</td>\n",
       "      <td>2.374829</td>\n",
       "      <td>5.755421</td>\n",
       "      <td>7.458220</td>\n",
       "      <td>8.181947</td>\n",
       "      <td>8.420607</td>\n",
       "    </tr>\n",
       "    <tr>\n",
       "      <th>min</th>\n",
       "      <td>13652.000000</td>\n",
       "      <td>2.700000</td>\n",
       "      <td>2.100000</td>\n",
       "      <td>0.900000</td>\n",
       "      <td>5.400000</td>\n",
       "      <td>15.200000</td>\n",
       "      <td>38.800000</td>\n",
       "      <td>20.000000</td>\n",
       "      <td>23.400000</td>\n",
       "    </tr>\n",
       "    <tr>\n",
       "      <th>25%</th>\n",
       "      <td>23389.000000</td>\n",
       "      <td>10.500000</td>\n",
       "      <td>18.200000</td>\n",
       "      <td>7.600000</td>\n",
       "      <td>8.475000</td>\n",
       "      <td>25.075000</td>\n",
       "      <td>56.700000</td>\n",
       "      <td>32.600000</td>\n",
       "      <td>39.675000</td>\n",
       "    </tr>\n",
       "    <tr>\n",
       "      <th>50%</th>\n",
       "      <td>27794.500000</td>\n",
       "      <td>15.500000</td>\n",
       "      <td>27.100000</td>\n",
       "      <td>12.900000</td>\n",
       "      <td>10.100000</td>\n",
       "      <td>29.150000</td>\n",
       "      <td>62.100000</td>\n",
       "      <td>37.100000</td>\n",
       "      <td>45.800000</td>\n",
       "    </tr>\n",
       "    <tr>\n",
       "      <th>75%</th>\n",
       "      <td>34423.250000</td>\n",
       "      <td>20.400000</td>\n",
       "      <td>33.525000</td>\n",
       "      <td>18.200000</td>\n",
       "      <td>11.700000</td>\n",
       "      <td>33.100000</td>\n",
       "      <td>67.500000</td>\n",
       "      <td>43.600000</td>\n",
       "      <td>51.025000</td>\n",
       "    </tr>\n",
       "    <tr>\n",
       "      <th>max</th>\n",
       "      <td>85801.000000</td>\n",
       "      <td>44.500000</td>\n",
       "      <td>63.900000</td>\n",
       "      <td>47.900000</td>\n",
       "      <td>18.200000</td>\n",
       "      <td>47.200000</td>\n",
       "      <td>79.700000</td>\n",
       "      <td>62.800000</td>\n",
       "      <td>67.300000</td>\n",
       "    </tr>\n",
       "  </tbody>\n",
       "</table>\n",
       "</div>"
      ],
      "text/plain": [
       "       Per Capita Income (2016)  All People Under PL(%)  \\\n",
       "count                488.000000              488.000000   \n",
       "mean               30134.411885               16.054508   \n",
       "std                 9834.990940                7.316350   \n",
       "min                13652.000000                2.700000   \n",
       "25%                23389.000000               10.500000   \n",
       "50%                27794.500000               15.500000   \n",
       "75%                34423.250000               20.400000   \n",
       "max                85801.000000               44.500000   \n",
       "\n",
       "       Female household under PL (%)  %onFoodStamps  DIABETES_AdjPrev  \\\n",
       "count                     488.000000     488.000000        488.000000   \n",
       "mean                       26.460451      13.851434         10.289754   \n",
       "std                        10.808012       8.329978          2.374829   \n",
       "min                         2.100000       0.900000          5.400000   \n",
       "25%                        18.200000       7.600000          8.475000   \n",
       "50%                        27.100000      12.900000         10.100000   \n",
       "75%                        33.525000      18.200000         11.700000   \n",
       "max                        63.900000      47.900000         18.200000   \n",
       "\n",
       "       OBESITY_AdjPrev  DENTAL_AdjPrev  % of pop 15+ not married  \\\n",
       "count       488.000000      488.000000                488.000000   \n",
       "mean         29.085246       62.169262                 38.303279   \n",
       "std           5.755421        7.458220                  8.181947   \n",
       "min          15.200000       38.800000                 20.000000   \n",
       "25%          25.075000       56.700000                 32.600000   \n",
       "50%          29.150000       62.100000                 37.100000   \n",
       "75%          33.100000       67.500000                 43.600000   \n",
       "max          47.200000       79.700000                 62.800000   \n",
       "\n",
       "       % of Pop 15+ Now Married  \n",
       "count                488.000000  \n",
       "mean                  45.422951  \n",
       "std                    8.420607  \n",
       "min                   23.400000  \n",
       "25%                   39.675000  \n",
       "50%                   45.800000  \n",
       "75%                   51.025000  \n",
       "max                   67.300000  "
      ]
     },
     "execution_count": 4,
     "metadata": {},
     "output_type": "execute_result"
    }
   ],
   "source": [
    "df.describe()"
   ]
  },
  {
   "cell_type": "code",
   "execution_count": 5,
   "metadata": {},
   "outputs": [
    {
     "data": {
      "text/plain": [
       "Geography                        0\n",
       "Per Capita Income (2016)         0\n",
       "All People Under PL(%)           0\n",
       "Female household under PL (%)    0\n",
       "%onFoodStamps                    0\n",
       "DIABETES_AdjPrev                 0\n",
       "OBESITY_AdjPrev                  0\n",
       "DENTAL_AdjPrev                   0\n",
       "% of pop 15+ not married         0\n",
       "% of Pop 15+ Now Married         0\n",
       "Geolocation                      0\n",
       "dtype: int64"
      ]
     },
     "execution_count": 5,
     "metadata": {},
     "output_type": "execute_result"
    }
   ],
   "source": [
    "df.isnull().sum()"
   ]
  },
  {
   "cell_type": "code",
   "execution_count": 6,
   "metadata": {},
   "outputs": [
    {
     "data": {
      "text/plain": [
       "<matplotlib.axes._subplots.AxesSubplot at 0x10dc1bf60>"
      ]
     },
     "execution_count": 6,
     "metadata": {},
     "output_type": "execute_result"
    },
    {
     "data": {
      "image/png": "[encoded data removed]",
      "text/plain": [
       "<matplotlib.figure.Figure at 0x10dc1b7f0>"
      ]
     },
     "metadata": {},
     "output_type": "display_data"
    }
   ],
   "source": [
    "df.loc[df['All People Under PL(%)'] <= 15, \"poor_factor\"] = 1\n",
    "df.loc[df['All People Under PL(%)'] > 15, \"poor_factor\"] = 0\n",
    "df['All People Under PL(%)'].hist()"
   ]
  },
  {
   "cell_type": "markdown",
   "metadata": {},
   "source": [
    "LinearSVC\n",
    "==========="
   ]
  },
  {
   "cell_type": "code",
   "execution_count": 7,
   "metadata": {
    "collapsed": true
   },
   "outputs": [],
   "source": [
    "target = df[\"poor_factor\"]\n",
    "target_names = [\"poorer\", \"wealthier\"]\n",
    "data = df.drop([\"Geography\", \"Geolocation\", \"All People Under PL(%)\", \"poor_factor\"], axis=1)\n",
    "features_names = data.columns"
   ]
  },
  {
   "cell_type": "code",
   "execution_count": 8,
   "metadata": {
    "collapsed": true
   },
   "outputs": [],
   "source": [
    "X_train, X_test, y_train, y_test = train_test_split(data, target, random_state=42)\n",
    "svc_model = SVC(kernel='linear')"
   ]
  },
  {
   "cell_type": "code",
   "execution_count": 9,
   "metadata": {},
   "outputs": [
    {
     "data": {
      "text/plain": [
       "SVC(C=1.0, cache_size=200, class_weight=None, coef0=0.0,\n",
       "  decision_function_shape=None, degree=3, gamma='auto', kernel='linear',\n",
       "  max_iter=-1, probability=False, random_state=None, shrinking=True,\n",
       "  tol=0.001, verbose=False)"
      ]
     },
     "execution_count": 9,
     "metadata": {},
     "output_type": "execute_result"
    }
   ],
   "source": [
    "svc_model.fit(X_train, y_train)"
   ]
  },
  {
   "cell_type": "code",
   "execution_count": 10,
   "metadata": {},
   "outputs": [
    {
     "name": "stdout",
     "output_type": "stream",
     "text": [
      "Test Acc: 0.885\n",
      "MSE: 0.11475409836065574\n"
     ]
    }
   ],
   "source": [
    "print('Test Acc: %.3f' % svc_model.score(X_test, y_test))\n",
    "MSE_svc = mean_squared_error(y_test, svc_model.predict(X_test))  \n",
    "print(f\"MSE: {MSE_svc}\")"
   ]
  },
  {
   "cell_type": "code",
   "execution_count": 11,
   "metadata": {},
   "outputs": [
    {
     "name": "stdout",
     "output_type": "stream",
     "text": [
      "             precision    recall  f1-score   support\n",
      "\n",
      "     poorer       0.85      0.93      0.89        61\n",
      "  wealthier       0.93      0.84      0.88        61\n",
      "\n",
      "avg / total       0.89      0.89      0.88       122\n",
      "\n"
     ]
    }
   ],
   "source": [
    "predictions = svc_model.predict(X_test)\n",
    "print(classification_report(y_test, predictions,\n",
    "                            target_names=target_names))"
   ]
  },
  {
   "cell_type": "markdown",
   "metadata": {},
   "source": [
    "LinearSVC with Standard Scaling\n",
    "================="
   ]
  },
  {
   "cell_type": "code",
   "execution_count": 12,
   "metadata": {
    "collapsed": true
   },
   "outputs": [],
   "source": [
    "X_train_, X_test_, y_train_, y_test_ = train_test_split(data, target, random_state=42)\n",
    "svc_model_s = SVC(kernel='linear')"
   ]
  },
  {
   "cell_type": "code",
   "execution_count": 13,
   "metadata": {
    "collapsed": true
   },
   "outputs": [],
   "source": [
    "X_scaler = StandardScaler().fit(X_train_)\n",
    "X_train_scaled = X_scaler.transform(X_train_)\n",
    "X_test_scaled = X_scaler.transform(X_test_)"
   ]
  },
  {
   "cell_type": "code",
   "execution_count": 14,
   "metadata": {},
   "outputs": [
    {
     "data": {
      "text/plain": [
       "SVC(C=1.0, cache_size=200, class_weight=None, coef0=0.0,\n",
       "  decision_function_shape=None, degree=3, gamma='auto', kernel='linear',\n",
       "  max_iter=-1, probability=False, random_state=None, shrinking=True,\n",
       "  tol=0.001, verbose=False)"
      ]
     },
     "execution_count": 14,
     "metadata": {},
     "output_type": "execute_result"
    }
   ],
   "source": [
    "svc_model_s.fit(X_train_scaled, y_train_)"
   ]
  },
  {
   "cell_type": "code",
   "execution_count": 15,
   "metadata": {},
   "outputs": [
    {
     "name": "stdout",
     "output_type": "stream",
     "text": [
      "Test Acc: 0.918\n"
     ]
    }
   ],
   "source": [
    "print('Test Acc: %.3f' % svc_model_s.score(X_test_scaled, y_test_))"
   ]
  },
  {
   "cell_type": "code",
   "execution_count": 16,
   "metadata": {},
   "outputs": [
    {
     "name": "stdout",
     "output_type": "stream",
     "text": [
      "MSE: 0.08196721311475409\n"
     ]
    }
   ],
   "source": [
    "MSE_svc_ = mean_squared_error(y_test_, svc_model_s.predict(X_test_scaled))  \n",
    "print(f\"MSE: {MSE_svc_}\")"
   ]
  },
  {
   "cell_type": "code",
   "execution_count": 17,
   "metadata": {},
   "outputs": [
    {
     "name": "stdout",
     "output_type": "stream",
     "text": [
      "             precision    recall  f1-score   support\n",
      "\n",
      "     poorer       0.88      0.97      0.92        61\n",
      "  wealthier       0.96      0.87      0.91        61\n",
      "\n",
      "avg / total       0.92      0.92      0.92       122\n",
      "\n"
     ]
    }
   ],
   "source": [
    "predictions = svc_model_s.predict(X_test_scaled)\n",
    "print(classification_report(y_test_, predictions,\n",
    "                            target_names=target_names))"
   ]
  },
  {
   "cell_type": "code",
   "execution_count": 42,
   "metadata": {},
   "outputs": [
    {
     "data": {
      "text/plain": [
       "array([[ 0.27755156, -0.72243966, -0.54791386,  0.58505672, -0.23476349,\n",
       "         0.94184869, -0.4282913 ,  1.09702031]])"
      ]
     },
     "execution_count": 42,
     "metadata": {},
     "output_type": "execute_result"
    }
   ],
   "source": [
    "svc_model_s.coef_"
   ]
  },
  {
   "cell_type": "markdown",
   "metadata": {},
   "source": [
    "KNeighbors Classifier\n",
    "============"
   ]
  },
  {
   "cell_type": "code",
   "execution_count": 18,
   "metadata": {
    "collapsed": true
   },
   "outputs": [],
   "source": [
    "X_train_knn, X_test_knn, y_train_knn, y_test_knn = train_test_split(data, target, random_state=42)\n"
   ]
  },
  {
   "cell_type": "code",
   "execution_count": 19,
   "metadata": {},
   "outputs": [
    {
     "name": "stdout",
     "output_type": "stream",
     "text": [
      "k: 1, Train/Test Score: 1.000/0.598\n",
      "k: 3, Train/Test Score: 0.852/0.664\n",
      "k: 5, Train/Test Score: 0.801/0.697\n",
      "k: 7, Train/Test Score: 0.803/0.689\n",
      "k: 9, Train/Test Score: 0.798/0.697\n",
      "k: 11, Train/Test Score: 0.790/0.705\n",
      "k: 13, Train/Test Score: 0.768/0.697\n",
      "k: 15, Train/Test Score: 0.757/0.697\n",
      "k: 17, Train/Test Score: 0.760/0.713\n",
      "k: 19, Train/Test Score: 0.760/0.705\n"
     ]
    },
    {
     "data": {
      "image/png": "[encoded data removed]",
      "text/plain": [
       "<matplotlib.figure.Figure at 0x10dc70668>"
      ]
     },
     "metadata": {},
     "output_type": "display_data"
    }
   ],
   "source": [
    "train_scores = []\n",
    "test_scores = []\n",
    "for k in range(1, 20, 2):\n",
    "    knn = KNeighborsClassifier(n_neighbors=k)\n",
    "    knn.fit(X_train_knn, y_train_knn)\n",
    "    train_score = knn.score(X_train_knn, y_train_knn)\n",
    "    test_score = knn.score(X_test_knn, y_test_knn)\n",
    "    train_scores.append(train_score)\n",
    "    test_scores.append(test_score)\n",
    "    print(f\"k: {k}, Train/Test Score: {train_score:.3f}/{test_score:.3f}\")\n",
    "    \n",
    "    \n",
    "plt.plot(range(1, 20, 2), train_scores, marker='o')\n",
    "plt.plot(range(1, 20, 2), test_scores, marker=\"x\")\n",
    "plt.xlabel(\"k neighbors\")\n",
    "plt.ylabel(\"Testing accuracy Score\")\n",
    "plt.show()"
   ]
  },
  {
   "cell_type": "code",
   "execution_count": 20,
   "metadata": {
    "collapsed": true
   },
   "outputs": [],
   "source": [
    "X_scaler_knn = StandardScaler().fit(X_train_knn)\n",
    "X_train_scaled_knn = X_scaler_knn.transform(X_train_knn)\n",
    "X_test_scaled_knn = X_scaler_knn.transform(X_test_knn)"
   ]
  },
  {
   "cell_type": "code",
   "execution_count": 21,
   "metadata": {},
   "outputs": [
    {
     "name": "stdout",
     "output_type": "stream",
     "text": [
      "k: 1, Train/Test Score: 1.000/0.893\n",
      "k: 3, Train/Test Score: 0.929/0.893\n",
      "k: 5, Train/Test Score: 0.899/0.918\n",
      "k: 7, Train/Test Score: 0.904/0.934\n",
      "k: 9, Train/Test Score: 0.904/0.934\n",
      "k: 11, Train/Test Score: 0.896/0.918\n",
      "k: 13, Train/Test Score: 0.885/0.902\n",
      "k: 15, Train/Test Score: 0.888/0.910\n",
      "k: 17, Train/Test Score: 0.888/0.910\n",
      "k: 19, Train/Test Score: 0.883/0.902\n"
     ]
    },
    {
     "data": {
      "image/png": "[encoded data removed]",
      "text/plain": [
       "<matplotlib.figure.Figure at 0x10dc705f8>"
      ]
     },
     "metadata": {},
     "output_type": "display_data"
    }
   ],
   "source": [
    "train_scores = []\n",
    "test_scores = []\n",
    "for k in range(1, 20, 2):\n",
    "    knn = KNeighborsClassifier(n_neighbors=k)\n",
    "    knn.fit(X_train_scaled_knn, y_train_knn)\n",
    "    train_score = knn.score(X_train_scaled_knn, y_train_knn)\n",
    "    test_score = knn.score(X_test_scaled_knn, y_test_knn)\n",
    "    train_scores.append(train_score)\n",
    "    test_scores.append(test_score)\n",
    "    print(f\"k: {k}, Train/Test Score: {train_score:.3f}/{test_score:.3f}\")\n",
    "    \n",
    "    \n",
    "plt.plot(range(1, 20, 2), train_scores, marker='o')\n",
    "plt.plot(range(1, 20, 2), test_scores, marker=\"x\")\n",
    "plt.xlabel(\"k neighbors\")\n",
    "plt.ylabel(\"Testing accuracy Score\")\n",
    "plt.show()"
   ]
  },
  {
   "cell_type": "markdown",
   "metadata": {},
   "source": [
    "Random Forest \n",
    "=========="
   ]
  },
  {
   "cell_type": "code",
   "execution_count": 22,
   "metadata": {
    "collapsed": true
   },
   "outputs": [],
   "source": [
    "X_train_rf, X_test_rf, y_train_rf, y_test_rf = train_test_split(data, target, random_state=42)"
   ]
  },
  {
   "cell_type": "code",
   "execution_count": 23,
   "metadata": {
    "collapsed": true
   },
   "outputs": [],
   "source": [
    "rf = RandomForestClassifier(n_estimators=100)"
   ]
  },
  {
   "cell_type": "code",
   "execution_count": 24,
   "metadata": {},
   "outputs": [
    {
     "data": {
      "text/plain": [
       "RandomForestClassifier(bootstrap=True, class_weight=None, criterion='gini',\n",
       "            max_depth=None, max_features='auto', max_leaf_nodes=None,\n",
       "            min_impurity_split=1e-07, min_samples_leaf=1,\n",
       "            min_samples_split=2, min_weight_fraction_leaf=0.0,\n",
       "            n_estimators=100, n_jobs=1, oob_score=False, random_state=None,\n",
       "            verbose=0, warm_start=False)"
      ]
     },
     "execution_count": 24,
     "metadata": {},
     "output_type": "execute_result"
    }
   ],
   "source": [
    "rf.fit(X_train_rf, y_train_rf)"
   ]
  },
  {
   "cell_type": "code",
   "execution_count": 25,
   "metadata": {},
   "outputs": [
    {
     "data": {
      "text/plain": [
       "0.9016393442622951"
      ]
     },
     "execution_count": 25,
     "metadata": {},
     "output_type": "execute_result"
    }
   ],
   "source": [
    "rf.score(X_test_rf, y_test_rf)"
   ]
  },
  {
   "cell_type": "code",
   "execution_count": 26,
   "metadata": {},
   "outputs": [
    {
     "name": "stdout",
     "output_type": "stream",
     "text": [
      "             precision    recall  f1-score   support\n",
      "\n",
      "     poorer       0.89      0.92      0.90        61\n",
      "  wealthier       0.92      0.89      0.90        61\n",
      "\n",
      "avg / total       0.90      0.90      0.90       122\n",
      "\n"
     ]
    }
   ],
   "source": [
    "predictions = rf.predict(X_test_rf)\n",
    "print(classification_report(y_test_rf, predictions,\n",
    "                            target_names=target_names))"
   ]
  },
  {
   "cell_type": "code",
   "execution_count": 27,
   "metadata": {},
   "outputs": [
    {
     "name": "stdout",
     "output_type": "stream",
     "text": [
      "MSE: 0.09836065573770492\n"
     ]
    }
   ],
   "source": [
    "MSE_rf = mean_squared_error(y_test_rf, rf.predict(X_test_rf))  \n",
    "print(f\"MSE: {MSE_rf}\")"
   ]
  },
  {
   "cell_type": "markdown",
   "metadata": {},
   "source": [
    "Random Forest (Scaled)\n",
    "==============="
   ]
  },
  {
   "cell_type": "code",
   "execution_count": 28,
   "metadata": {
    "collapsed": true
   },
   "outputs": [],
   "source": [
    "X_train_rf_, X_test_rf_, y_train_rf_, y_test_rf_ = train_test_split(data, target, random_state=42)"
   ]
  },
  {
   "cell_type": "code",
   "execution_count": 29,
   "metadata": {
    "collapsed": true
   },
   "outputs": [],
   "source": [
    "rf_ = RandomForestClassifier(n_estimators=100)"
   ]
  },
  {
   "cell_type": "code",
   "execution_count": 30,
   "metadata": {
    "collapsed": true
   },
   "outputs": [],
   "source": [
    "X_scaler_rf = StandardScaler().fit(X_train_rf_)\n",
    "X_train_scaled_rf = X_scaler_rf.transform(X_train_rf_)\n",
    "X_test_scaled_rf = X_scaler_rf.transform(X_test_rf_)"
   ]
  },
  {
   "cell_type": "code",
   "execution_count": 31,
   "metadata": {},
   "outputs": [
    {
     "data": {
      "text/plain": [
       "RandomForestClassifier(bootstrap=True, class_weight=None, criterion='gini',\n",
       "            max_depth=None, max_features='auto', max_leaf_nodes=None,\n",
       "            min_impurity_split=1e-07, min_samples_leaf=1,\n",
       "            min_samples_split=2, min_weight_fraction_leaf=0.0,\n",
       "            n_estimators=100, n_jobs=1, oob_score=False, random_state=None,\n",
       "            verbose=0, warm_start=False)"
      ]
     },
     "execution_count": 31,
     "metadata": {},
     "output_type": "execute_result"
    }
   ],
   "source": [
    "rf_.fit(X_train_scaled_rf, y_train_rf_)"
   ]
  },
  {
   "cell_type": "code",
   "execution_count": 32,
   "metadata": {},
   "outputs": [
    {
     "data": {
      "text/plain": [
       "0.9098360655737705"
      ]
     },
     "execution_count": 32,
     "metadata": {},
     "output_type": "execute_result"
    }
   ],
   "source": [
    "rf_.score(X_test_scaled_rf, y_test_rf_)"
   ]
  },
  {
   "cell_type": "code",
   "execution_count": 33,
   "metadata": {},
   "outputs": [
    {
     "name": "stdout",
     "output_type": "stream",
     "text": [
      "             precision    recall  f1-score   support\n",
      "\n",
      "     poorer       0.89      0.93      0.91        61\n",
      "  wealthier       0.93      0.89      0.91        61\n",
      "\n",
      "avg / total       0.91      0.91      0.91       122\n",
      "\n"
     ]
    }
   ],
   "source": [
    "predictions = rf_.predict(X_test_scaled_rf)\n",
    "print(classification_report(y_test_rf_, predictions,\n",
    "                            target_names=target_names))"
   ]
  },
  {
   "cell_type": "markdown",
   "metadata": {},
   "source": [
    "Logistic Regression\n",
    "============"
   ]
  },
  {
   "cell_type": "code",
   "execution_count": 34,
   "metadata": {
    "collapsed": true
   },
   "outputs": [],
   "source": [
    "X_train_lr, X_test_lr, y_train_lr, y_test_lr = train_test_split(data, target, random_state=42)\n",
    "X_scaler_lr = StandardScaler().fit(X_train_lr)\n",
    "X_train_scaled_lr = X_scaler_lr.transform(X_train_lr)\n",
    "X_test_scaled_lr = X_scaler_lr.transform(X_test_lr)"
   ]
  },
  {
   "cell_type": "code",
   "execution_count": 35,
   "metadata": {
    "collapsed": true
   },
   "outputs": [],
   "source": [
    "lrc = LogisticRegression()"
   ]
  },
  {
   "cell_type": "code",
   "execution_count": 36,
   "metadata": {},
   "outputs": [
    {
     "data": {
      "text/plain": [
       "LogisticRegression(C=1.0, class_weight=None, dual=False, fit_intercept=True,\n",
       "          intercept_scaling=1, max_iter=100, multi_class='ovr', n_jobs=1,\n",
       "          penalty='l2', random_state=None, solver='liblinear', tol=0.0001,\n",
       "          verbose=0, warm_start=False)"
      ]
     },
     "execution_count": 36,
     "metadata": {},
     "output_type": "execute_result"
    }
   ],
   "source": [
    "lrc.fit(X_train_scaled_lr, y_train_lr)"
   ]
  },
  {
   "cell_type": "code",
   "execution_count": 37,
   "metadata": {},
   "outputs": [
    {
     "name": "stdout",
     "output_type": "stream",
     "text": [
      "Test Acc: 0.910\n"
     ]
    }
   ],
   "source": [
    "print('Test Acc: %.3f' % lrc.score(X_test_scaled_lr, y_test_lr))"
   ]
  },
  {
   "cell_type": "code",
   "execution_count": 38,
   "metadata": {},
   "outputs": [
    {
     "name": "stdout",
     "output_type": "stream",
     "text": [
      "             precision    recall  f1-score   support\n",
      "\n",
      "     poorer       0.88      0.95      0.91        61\n",
      "  wealthier       0.95      0.87      0.91        61\n",
      "\n",
      "avg / total       0.91      0.91      0.91       122\n",
      "\n"
     ]
    }
   ],
   "source": [
    "predictions = lrc.predict(X_test_scaled_lr)\n",
    "print(classification_report(y_test_lr, predictions,\n",
    "                            target_names=target_names))"
   ]
  },
  {
   "cell_type": "code",
   "execution_count": 39,
   "metadata": {},
   "outputs": [
    {
     "data": {
      "text/plain": [
       "array([[ 0.53753617, -1.11335625, -1.00378221,  0.47266509, -0.19535177,\n",
       "         0.91712711, -0.49366215,  1.68231782]])"
      ]
     },
     "execution_count": 39,
     "metadata": {},
     "output_type": "execute_result"
    }
   ],
   "source": [
    "lrc.coef_"
   ]
  },
  {
   "cell_type": "code",
   "execution_count": 40,
   "metadata": {},
   "outputs": [
    {
     "data": {
      "text/plain": [
       "Index(['Per Capita Income (2016)', 'Female household under PL (%)',\n",
       "       '%onFoodStamps', 'DIABETES_AdjPrev', 'OBESITY_AdjPrev',\n",
       "       'DENTAL_AdjPrev', '% of pop 15+ not married',\n",
       "       '% of Pop 15+ Now Married'],\n",
       "      dtype='object')"
      ]
     },
     "execution_count": 40,
     "metadata": {},
     "output_type": "execute_result"
    }
   ],
   "source": [
    "data.columns"
   ]
  },
  {
   "cell_type": "markdown",
   "metadata": {},
   "source": [
    "Full Classification Reports\n",
    "=============="
   ]
  },
  {
   "cell_type": "code",
   "execution_count": 43,
   "metadata": {},
   "outputs": [
    {
     "name": "stdout",
     "output_type": "stream",
     "text": [
      "             precision    recall  f1-score   support\n",
      "\n",
      "     poorer       0.85      0.93      0.89        61\n",
      "  wealthier       0.93      0.84      0.88        61\n",
      "\n",
      "avg / total       0.89      0.89      0.88       122\n",
      "\n"
     ]
    }
   ],
   "source": [
    "predictions = svc_model.predict(X_test)\n",
    "print(classification_report(y_test, predictions,\n",
    "                            target_names=target_names))"
   ]
  },
  {
   "cell_type": "code",
   "execution_count": 44,
   "metadata": {},
   "outputs": [
    {
     "name": "stdout",
     "output_type": "stream",
     "text": [
      "             precision    recall  f1-score   support\n",
      "\n",
      "     poorer       0.88      0.97      0.92        61\n",
      "  wealthier       0.96      0.87      0.91        61\n",
      "\n",
      "avg / total       0.92      0.92      0.92       122\n",
      "\n"
     ]
    }
   ],
   "source": [
    "predictions = svc_model_s.predict(X_test_scaled)\n",
    "print(classification_report(y_test_, predictions,\n",
    "                            target_names=target_names))"
   ]
  },
  {
   "cell_type": "code",
   "execution_count": 45,
   "metadata": {},
   "outputs": [
    {
     "name": "stdout",
     "output_type": "stream",
     "text": [
      "             precision    recall  f1-score   support\n",
      "\n",
      "     poorer       0.89      0.92      0.90        61\n",
      "  wealthier       0.92      0.89      0.90        61\n",
      "\n",
      "avg / total       0.90      0.90      0.90       122\n",
      "\n"
     ]
    }
   ],
   "source": [
    "predictions = rf.predict(X_test_rf)\n",
    "print(classification_report(y_test_rf, predictions,\n",
    "                            target_names=target_names))"
   ]
  },
  {
   "cell_type": "code",
   "execution_count": 46,
   "metadata": {},
   "outputs": [
    {
     "name": "stdout",
     "output_type": "stream",
     "text": [
      "             precision    recall  f1-score   support\n",
      "\n",
      "     poorer       0.89      0.93      0.91        61\n",
      "  wealthier       0.93      0.89      0.91        61\n",
      "\n",
      "avg / total       0.91      0.91      0.91       122\n",
      "\n"
     ]
    }
   ],
   "source": [
    "predictions = rf_.predict(X_test_scaled_rf)\n",
    "print(classification_report(y_test_rf_, predictions,\n",
    "                            target_names=target_names))"
   ]
  },
  {
   "cell_type": "code",
   "execution_count": 47,
   "metadata": {},
   "outputs": [
    {
     "name": "stdout",
     "output_type": "stream",
     "text": [
      "             precision    recall  f1-score   support\n",
      "\n",
      "     poorer       0.88      0.95      0.91        61\n",
      "  wealthier       0.95      0.87      0.91        61\n",
      "\n",
      "avg / total       0.91      0.91      0.91       122\n",
      "\n"
     ]
    }
   ],
   "source": [
    "predictions = lrc.predict(X_test_scaled_lr)\n",
    "print(classification_report(y_test_lr, predictions,\n",
    "                            target_names=target_names))"
   ]
  },
  {
   "cell_type": "code",
   "execution_count": null,
   "metadata": {
    "collapsed": true
   },
   "outputs": [],
   "source": []
  }
 ],
 "metadata": {
  "kernelspec": {
   "display_name": "Python [conda env:PythonData]",
   "language": "python",
   "name": "conda-env-PythonData-py"
  },
  "language_info": {
   "codemirror_mode": {
    "name": "ipython",
    "version": 3
   },
   "file_extension": ".py",
   "mimetype": "text/x-python",
   "name": "python",
   "nbconvert_exporter": "python",
   "pygments_lexer": "ipython3",
   "version": "3.6.3"
  }
 },
 "nbformat": 4,
 "nbformat_minor": 2
}
